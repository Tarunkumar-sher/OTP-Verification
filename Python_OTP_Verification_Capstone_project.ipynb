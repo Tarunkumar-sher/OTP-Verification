{
 "cells": [
  {
   "cell_type": "code",
   "execution_count": 1,
   "id": "866d1256-b5d1-498a-88c6-7ea95405994e",
   "metadata": {},
   "outputs": [],
   "source": [
    "# import the necessary libarieries\n",
    "import random\n",
    "import smtplib"
   ]
  },
  {
   "cell_type": "code",
   "execution_count": 2,
   "id": "21154a73-c0bb-4a6a-b35b-2a95abebd7b7",
   "metadata": {},
   "outputs": [],
   "source": [
    "# otp generation \n",
    "otp=''\n",
    "for i in range(0,6):\n",
    "    otp+=str(random.randint(0,9))"
   ]
  },
  {
   "cell_type": "code",
   "execution_count": 3,
   "id": "5f48541f-7094-47da-9031-520c3f938fc5",
   "metadata": {},
   "outputs": [],
   "source": [
    "# Import EmailMessage directly from the email module\n",
    "from email.message import EmailMessage "
   ]
  },
  {
   "cell_type": "code",
   "execution_count": null,
   "id": "3c4b6558-82b2-4bbc-af36-17d055c34486",
   "metadata": {},
   "outputs": [
    {
     "name": "stdin",
     "output_type": "stream",
     "text": [
      "Enter your email:  saikumar.sher@gmail.com\n"
     ]
    },
    {
     "name": "stdout",
     "output_type": "stream",
     "text": [
      "OTP sent to email: saikumar.sher@gmail.com\n"
     ]
    },
    {
     "name": "stdin",
     "output_type": "stream",
     "text": [
      "Enter your OTP:  123456\n"
     ]
    },
    {
     "name": "stdout",
     "output_type": "stream",
     "text": [
      "Invalid OTP. You have 4 attempt(s) left. Please try again.\n"
     ]
    }
   ],
   "source": [
    "# connecting the server to mail account\n",
    "server=smtplib.SMTP('smtp.gmail.com',587)\n",
    "server.starttls()\n",
    "from_mail= 'shermahammadpuramtarunkumar@gmail.com'\n",
    "server.login(from_mail,'tqob nqrn znaq ykla')\n",
    "to_mail=input(\"Enter your email: \")\n",
    "print('OTP sent to email:',to_mail)\n",
    "\n",
    "# Structure of the otp verification accoriding to the mail\n",
    "msg=EmailMessage()\n",
    "msg['Subject']=\"OTP Verification\"\n",
    "msg['From']= from_mail\n",
    "msg['to']= to_mail\n",
    "msg.set_content('Your OTP is :' +otp)\n",
    "server.send_message(msg)\n",
    "# set maximum attempts\n",
    "max_attempts=5\n",
    "attempts=0\n",
    "\n",
    "# OTP Generation\n",
    "input_otp = \"\"\n",
    "while input_otp != otp and attempts<max_attempts:\n",
    "    input_otp = input('Enter your OTP: ')\n",
    "    if input_otp == otp:\n",
    "        print('OTP Verified')\n",
    "    else:\n",
    "        attempts +=1\n",
    "        if attempts<max_attempts:\n",
    "            print(f'Invalid OTP. You have {max_attempts - attempts} attempt(s) left. Please try again.')\n",
    "        else:\n",
    "            print('Maximum attempts reached. OTP Verification failed.')"
   ]
  },
  {
   "cell_type": "code",
   "execution_count": null,
   "id": "27710798-7976-487c-a44c-498df8e9f421",
   "metadata": {},
   "outputs": [],
   "source": []
  },
  {
   "cell_type": "code",
   "execution_count": null,
   "id": "6d569071-7b16-4874-8cf7-f1ab6dd7486b",
   "metadata": {},
   "outputs": [],
   "source": []
  }
 ],
 "metadata": {
  "kernelspec": {
   "display_name": "Python 3 (ipykernel)",
   "language": "python",
   "name": "python3"
  },
  "language_info": {
   "codemirror_mode": {
    "name": "ipython",
    "version": 3
   },
   "file_extension": ".py",
   "mimetype": "text/x-python",
   "name": "python",
   "nbconvert_exporter": "python",
   "pygments_lexer": "ipython3",
   "version": "3.12.5"
  }
 },
 "nbformat": 4,
 "nbformat_minor": 5
}
